{
  "cells": [
    {
      "cell_type": "code",
      "execution_count": null,
      "metadata": {
        "colab": {
          "base_uri": "https://localhost:8080/"
        },
        "id": "Z_PMFbi7-bUT",
        "outputId": "6b6960c5-8d29-4b09-bd7a-c193c429d522"
      },
      "outputs": [
        {
          "name": "stdout",
          "output_type": "stream",
          "text": [
            "Looking in indexes: https://pypi.org/simple, https://us-python.pkg.dev/colab-wheels/public/simple/\n",
            "Collecting pyngrok==4.1.1\n",
            "  Downloading pyngrok-4.1.1.tar.gz (18 kB)\n",
            "  Preparing metadata (setup.py) ... \u001b[?25l\u001b[?25hdone\n",
            "Requirement already satisfied: future in /usr/local/lib/python3.9/dist-packages (from pyngrok==4.1.1) (0.18.3)\n",
            "Requirement already satisfied: PyYAML in /usr/local/lib/python3.9/dist-packages (from pyngrok==4.1.1) (6.0)\n",
            "Building wheels for collected packages: pyngrok\n",
            "  Building wheel for pyngrok (setup.py) ... \u001b[?25l\u001b[?25hdone\n",
            "  Created wheel for pyngrok: filename=pyngrok-4.1.1-py3-none-any.whl size=15979 sha256=39598a99affc141fb4c2766e999f58fbba02308e07cfacd0d98abc1629f8d4c1\n",
            "  Stored in directory: /root/.cache/pip/wheels/89/2d/c2/abe6bcfde6bce368c00ecd73310c11edb672c3eda09a090cfa\n",
            "Successfully built pyngrok\n",
            "Installing collected packages: pyngrok\n",
            "Successfully installed pyngrok-4.1.1\n"
          ]
        }
      ],
      "source": [
        "!pip install pyngrok==4.1.1"
      ]
    },
    {
      "cell_type": "code",
      "execution_count": null,
      "metadata": {
        "colab": {
          "base_uri": "https://localhost:8080/"
        },
        "id": "YPve47st-uuL",
        "outputId": "6c33cff4-1c4f-4e3e-b4d1-6e6b1e971803"
      },
      "outputs": [
        {
          "name": "stdout",
          "output_type": "stream",
          "text": [
            "Looking in indexes: https://pypi.org/simple, https://us-python.pkg.dev/colab-wheels/public/simple/\n",
            "Collecting streamlit\n",
            "  Downloading streamlit-1.20.0-py2.py3-none-any.whl (9.6 MB)\n",
            "\u001b[2K     \u001b[90m━━━━━━━━━━━━━━━━━━━━━━━━━━━━━━━━━━━━━━━━\u001b[0m \u001b[32m9.6/9.6 MB\u001b[0m \u001b[31m35.7 MB/s\u001b[0m eta \u001b[36m0:00:00\u001b[0m\n",
            "\u001b[?25hRequirement already satisfied: python-dateutil in /usr/local/lib/python3.9/dist-packages (from streamlit) (2.8.2)\n",
            "Requirement already satisfied: numpy in /usr/local/lib/python3.9/dist-packages (from streamlit) (1.22.4)\n",
            "Requirement already satisfied: protobuf<4,>=3.12 in /usr/local/lib/python3.9/dist-packages (from streamlit) (3.19.6)\n",
            "Requirement already satisfied: cachetools>=4.0 in /usr/local/lib/python3.9/dist-packages (from streamlit) (5.3.0)\n",
            "Requirement already satisfied: click>=7.0 in /usr/local/lib/python3.9/dist-packages (from streamlit) (8.1.3)\n",
            "Requirement already satisfied: tornado>=6.0.3 in /usr/local/lib/python3.9/dist-packages (from streamlit) (6.2)\n",
            "Requirement already satisfied: pyarrow>=4.0 in /usr/local/lib/python3.9/dist-packages (from streamlit) (9.0.0)\n",
            "Requirement already satisfied: pandas<2,>=0.25 in /usr/local/lib/python3.9/dist-packages (from streamlit) (1.4.4)\n",
            "Collecting validators>=0.2\n",
            "  Downloading validators-0.20.0.tar.gz (30 kB)\n",
            "  Preparing metadata (setup.py) ... \u001b[?25l\u001b[?25hdone\n",
            "Collecting pympler>=0.9\n",
            "  Downloading Pympler-1.0.1-py3-none-any.whl (164 kB)\n",
            "\u001b[2K     \u001b[90m━━━━━━━━━━━━━━━━━━━━━━━━━━━━━━━━━━━━━━\u001b[0m \u001b[32m164.8/164.8 KB\u001b[0m \u001b[31m13.7 MB/s\u001b[0m eta \u001b[36m0:00:00\u001b[0m\n",
            "\u001b[?25hRequirement already satisfied: altair<5,>=3.2.0 in /usr/local/lib/python3.9/dist-packages (from streamlit) (4.2.2)\n",
            "Collecting rich>=10.11.0\n",
            "  Downloading rich-13.3.2-py3-none-any.whl (238 kB)\n",
            "\u001b[2K     \u001b[90m━━━━━━━━━━━━━━━━━━━━━━━━━━━━━━━━━━━━━━\u001b[0m \u001b[32m238.7/238.7 KB\u001b[0m \u001b[31m23.1 MB/s\u001b[0m eta \u001b[36m0:00:00\u001b[0m\n",
            "\u001b[?25hCollecting gitpython!=3.1.19\n",
            "  Downloading GitPython-3.1.31-py3-none-any.whl (184 kB)\n",
            "\u001b[2K     \u001b[90m━━━━━━━━━━━━━━━━━━━━━━━━━━━━━━━━━━━━━━\u001b[0m \u001b[32m184.3/184.3 KB\u001b[0m \u001b[31m21.2 MB/s\u001b[0m eta \u001b[36m0:00:00\u001b[0m\n",
            "\u001b[?25hRequirement already satisfied: requests>=2.4 in /usr/local/lib/python3.9/dist-packages (from streamlit) (2.27.1)\n",
            "Requirement already satisfied: toml in /usr/local/lib/python3.9/dist-packages (from streamlit) (0.10.2)\n",
            "Collecting semver\n",
            "  Downloading semver-2.13.0-py2.py3-none-any.whl (12 kB)\n",
            "Requirement already satisfied: tzlocal>=1.1 in /usr/local/lib/python3.9/dist-packages (from streamlit) (4.2)\n",
            "Collecting watchdog\n",
            "  Downloading watchdog-2.3.1-py3-none-manylinux2014_x86_64.whl (80 kB)\n",
            "\u001b[2K     \u001b[90m━━━━━━━━━━━━━━━━━━━━━━━━━━━━━━━━━━━━━━━━\u001b[0m \u001b[32m80.6/80.6 KB\u001b[0m \u001b[31m9.8 MB/s\u001b[0m eta \u001b[36m0:00:00\u001b[0m\n",
            "\u001b[?25hCollecting blinker>=1.0.0\n",
            "  Downloading blinker-1.5-py2.py3-none-any.whl (12 kB)\n",
            "Requirement already satisfied: importlib-metadata>=1.4 in /usr/local/lib/python3.9/dist-packages (from streamlit) (6.0.0)\n",
            "Requirement already satisfied: typing-extensions>=3.10.0.0 in /usr/local/lib/python3.9/dist-packages (from streamlit) (4.5.0)\n",
            "Requirement already satisfied: packaging>=14.1 in /usr/local/lib/python3.9/dist-packages (from streamlit) (23.0)\n",
            "Collecting pydeck>=0.1.dev5\n",
            "  Downloading pydeck-0.8.0-py2.py3-none-any.whl (4.7 MB)\n",
            "\u001b[2K     \u001b[90m━━━━━━━━━━━━━━━━━━━━━━━━━━━━━━━━━━━━━━━━\u001b[0m \u001b[32m4.7/4.7 MB\u001b[0m \u001b[31m48.7 MB/s\u001b[0m eta \u001b[36m0:00:00\u001b[0m\n",
            "\u001b[?25hRequirement already satisfied: pillow>=6.2.0 in /usr/local/lib/python3.9/dist-packages (from streamlit) (8.4.0)\n",
            "Requirement already satisfied: jsonschema>=3.0 in /usr/local/lib/python3.9/dist-packages (from altair<5,>=3.2.0->streamlit) (4.3.3)\n",
            "Requirement already satisfied: entrypoints in /usr/local/lib/python3.9/dist-packages (from altair<5,>=3.2.0->streamlit) (0.4)\n",
            "Requirement already satisfied: jinja2 in /usr/local/lib/python3.9/dist-packages (from altair<5,>=3.2.0->streamlit) (3.1.2)\n",
            "Requirement already satisfied: toolz in /usr/local/lib/python3.9/dist-packages (from altair<5,>=3.2.0->streamlit) (0.12.0)\n",
            "Collecting gitdb<5,>=4.0.1\n",
            "  Downloading gitdb-4.0.10-py3-none-any.whl (62 kB)\n",
            "\u001b[2K     \u001b[90m━━━━━━━━━━━━━━━━━━━━━━━━━━━━━━━━━━━━━━━━\u001b[0m \u001b[32m62.7/62.7 KB\u001b[0m \u001b[31m4.4 MB/s\u001b[0m eta \u001b[36m0:00:00\u001b[0m\n",
            "\u001b[?25hRequirement already satisfied: zipp>=0.5 in /usr/local/lib/python3.9/dist-packages (from importlib-metadata>=1.4->streamlit) (3.15.0)\n",
            "Requirement already satisfied: pytz>=2020.1 in /usr/local/lib/python3.9/dist-packages (from pandas<2,>=0.25->streamlit) (2022.7.1)\n",
            "Requirement already satisfied: six>=1.5 in /usr/local/lib/python3.9/dist-packages (from python-dateutil->streamlit) (1.15.0)\n",
            "Requirement already satisfied: charset-normalizer~=2.0.0 in /usr/local/lib/python3.9/dist-packages (from requests>=2.4->streamlit) (2.0.12)\n",
            "Requirement already satisfied: urllib3<1.27,>=1.21.1 in /usr/local/lib/python3.9/dist-packages (from requests>=2.4->streamlit) (1.26.15)\n",
            "Requirement already satisfied: idna<4,>=2.5 in /usr/local/lib/python3.9/dist-packages (from requests>=2.4->streamlit) (3.4)\n",
            "Requirement already satisfied: certifi>=2017.4.17 in /usr/local/lib/python3.9/dist-packages (from requests>=2.4->streamlit) (2022.12.7)\n",
            "Collecting pygments<3.0.0,>=2.13.0\n",
            "  Downloading Pygments-2.14.0-py3-none-any.whl (1.1 MB)\n",
            "\u001b[2K     \u001b[90m━━━━━━━━━━━━━━━━━━━━━━━━━━━━━━━━━━━━━━━━\u001b[0m \u001b[32m1.1/1.1 MB\u001b[0m \u001b[31m46.8 MB/s\u001b[0m eta \u001b[36m0:00:00\u001b[0m\n",
            "\u001b[?25hCollecting markdown-it-py<3.0.0,>=2.2.0\n",
            "  Downloading markdown_it_py-2.2.0-py3-none-any.whl (84 kB)\n",
            "\u001b[2K     \u001b[90m━━━━━━━━━━━━━━━━━━━━━━━━━━━━━━━━━━━━━━━━\u001b[0m \u001b[32m84.5/84.5 KB\u001b[0m \u001b[31m11.6 MB/s\u001b[0m eta \u001b[36m0:00:00\u001b[0m\n",
            "\u001b[?25hRequirement already satisfied: pytz-deprecation-shim in /usr/local/lib/python3.9/dist-packages (from tzlocal>=1.1->streamlit) (0.1.0.post0)\n",
            "Requirement already satisfied: decorator>=3.4.0 in /usr/local/lib/python3.9/dist-packages (from validators>=0.2->streamlit) (4.4.2)\n",
            "Collecting smmap<6,>=3.0.1\n",
            "  Downloading smmap-5.0.0-py3-none-any.whl (24 kB)\n",
            "Requirement already satisfied: MarkupSafe>=2.0 in /usr/local/lib/python3.9/dist-packages (from jinja2->altair<5,>=3.2.0->streamlit) (2.1.2)\n",
            "Requirement already satisfied: attrs>=17.4.0 in /usr/local/lib/python3.9/dist-packages (from jsonschema>=3.0->altair<5,>=3.2.0->streamlit) (22.2.0)\n",
            "Requirement already satisfied: pyrsistent!=0.17.0,!=0.17.1,!=0.17.2,>=0.14.0 in /usr/local/lib/python3.9/dist-packages (from jsonschema>=3.0->altair<5,>=3.2.0->streamlit) (0.19.3)\n",
            "Collecting mdurl~=0.1\n",
            "  Downloading mdurl-0.1.2-py3-none-any.whl (10.0 kB)\n",
            "Requirement already satisfied: tzdata in /usr/local/lib/python3.9/dist-packages (from pytz-deprecation-shim->tzlocal>=1.1->streamlit) (2022.7)\n",
            "Building wheels for collected packages: validators\n",
            "  Building wheel for validators (setup.py) ... \u001b[?25l\u001b[?25hdone\n",
            "  Created wheel for validators: filename=validators-0.20.0-py3-none-any.whl size=19579 sha256=3d53d149d58bc993efbeb239de27e186082edf3fedb07fd5e2116dd3321d37af\n",
            "  Stored in directory: /root/.cache/pip/wheels/2d/f0/a8/1094fca7a7e5d0d12ff56e0c64675d72aa5cc81a5fc200e849\n",
            "Successfully built validators\n",
            "Installing collected packages: watchdog, validators, smmap, semver, pympler, pygments, mdurl, blinker, pydeck, markdown-it-py, gitdb, rich, gitpython, streamlit\n",
            "  Attempting uninstall: pygments\n",
            "    Found existing installation: Pygments 2.6.1\n",
            "    Uninstalling Pygments-2.6.1:\n",
            "      Successfully uninstalled Pygments-2.6.1\n",
            "\u001b[31mERROR: pip's dependency resolver does not currently take into account all the packages that are installed. This behaviour is the source of the following dependency conflicts.\n",
            "ipython 7.9.0 requires jedi>=0.10, which is not installed.\u001b[0m\u001b[31m\n",
            "\u001b[0mSuccessfully installed blinker-1.5 gitdb-4.0.10 gitpython-3.1.31 markdown-it-py-2.2.0 mdurl-0.1.2 pydeck-0.8.0 pygments-2.14.0 pympler-1.0.1 rich-13.3.2 semver-2.13.0 smmap-5.0.0 streamlit-1.20.0 validators-0.20.0 watchdog-2.3.1\n"
          ]
        }
      ],
      "source": [
        "!pip install --upgrade streamlit\n",
        "import streamlit as st"
      ]
    },
    {
      "cell_type": "code",
      "execution_count": null,
      "metadata": {
        "colab": {
          "base_uri": "https://localhost:8080/"
        },
        "id": "Dwk720idugGk",
        "outputId": "4216c4f6-1c11-4aff-be26-8575bb270cda"
      },
      "outputs": [
        {
          "name": "stdout",
          "output_type": "stream",
          "text": [
            "Mounted at /content/gdrive\n"
          ]
        }
      ],
      "source": [
        "from google.colab import drive\n",
        "drive.mount('/content/gdrive',force_remount=True)"
      ]
    },
    {
      "cell_type": "code",
      "execution_count": null,
      "metadata": {
        "colab": {
          "base_uri": "https://localhost:8080/"
        },
        "id": "WrBBcWIVuniI",
        "outputId": "858418e7-94b0-4164-f5e6-8fbae9f01a63"
      },
      "outputs": [
        {
          "name": "stdout",
          "output_type": "stream",
          "text": [
            "/content/gdrive/.shortcut-targets-by-id/1HuqlSiQQRulpqyyP747KMhMiCeBTkfqs/DS440/Data/image\n"
          ]
        }
      ],
      "source": [
        "cd /content/gdrive/My Drive/DS440/Data/image"
      ]
    },
    {
      "cell_type": "code",
      "execution_count": null,
      "metadata": {
        "colab": {
          "base_uri": "https://localhost:8080/"
        },
        "id": "Hy1C2A5QuxAc",
        "outputId": "4e2cf336-87b4-43db-b12e-97e893fcd98e"
      },
      "outputs": [
        {
          "name": "stdout",
          "output_type": "stream",
          "text": [
            "12345.jpg\t    best_model.h5  features.pkl  model.png\n",
            "16641184431457.jpg  captions.txt   Images\t tokenizer.pkl\n"
          ]
        }
      ],
      "source": [
        "!ls"
      ]
    },
    {
      "cell_type": "code",
      "execution_count": null,
      "metadata": {
        "colab": {
          "base_uri": "https://localhost:8080/"
        },
        "id": "ADZgnV05-1KL",
        "outputId": "b94c3bcc-7869-4cb7-daf1-90e68b6f0593"
      },
      "outputs": [
        {
          "name": "stdout",
          "output_type": "stream",
          "text": [
            "Overwriting app.py\n"
          ]
        }
      ],
      "source": [
        "%%writefile app.py\n",
        "import os   # handling the files\n",
        "import pickle # storing numpy features\n",
        "import numpy as np\n",
        "from tqdm.notebook import tqdm # how much data is process till now\n",
        "from keras.models import load_model\n",
        "import cv2\n",
        "\n",
        "from tensorflow.keras.applications.vgg16 import VGG16 , preprocess_input # extract features from image data.\n",
        "from tensorflow.keras.preprocessing.image import load_img , img_to_array\n",
        "from tensorflow.keras.preprocessing.text import Tokenizer\n",
        "from tensorflow.keras.preprocessing.sequence import pad_sequences\n",
        "from tensorflow.keras.models import Model\n",
        "from tensorflow.keras.utils import to_categorical, plot_model\n",
        "from tensorflow.keras.layers import Input , Dense , LSTM , Embedding , Dropout , add\n",
        "\n",
        "import streamlit as st\n",
        "import pickle\n",
        "import numpy as np\n",
        "import pandas as pd\n",
        "import string\n",
        "\n",
        "Navigation = {\"page_title\":\"ImageCaptionGenerator.io\",\"page_icon\":\"👽\",\"layout\":\"centered\"}\n",
        "st.set_page_config(**Navigation)\n",
        "\n",
        "\n",
        "\n",
        "def idx_to_word(integer, tokenizer):\n",
        "    for word, index in tokenizer.word_index.items():\n",
        "        if index == integer:\n",
        "            return word\n",
        "    return None\n",
        "\n",
        "# generate caption for an image\n",
        "def predict_caption(model, image, tokenizer, max_length):\n",
        "    # add start tag for generation process\n",
        "    in_text = 'startseq'\n",
        "    # iterate over the max length of sequence\n",
        "    for i in range(max_length):\n",
        "        # encode input sequence\n",
        "        sequence = tokenizer.texts_to_sequences([in_text])[0]\n",
        "        # pad the sequence\n",
        "        sequence = pad_sequences([sequence], max_length)\n",
        "        # predict next word\n",
        "        yhat = model.predict([image, sequence], verbose=0)\n",
        "        # get index with high probability\n",
        "        yhat = np.argmax(yhat)\n",
        "        # convert index to word\n",
        "        word = idx_to_word(yhat, tokenizer)\n",
        "        # stop if word not found\n",
        "        if word is None:\n",
        "            break\n",
        "        # append word as input for generating next word\n",
        "        in_text += \" \" + word\n",
        "        # stop if we reach end tag\n",
        "        if word == 'endseq':\n",
        "            break\n",
        "    return in_text\n",
        "\n",
        "from PIL import Image\n",
        "import matplotlib.pyplot as plt\n",
        "# def generate_caption(image_name):\n",
        "#     # load the image\n",
        "#     # image_name = \"1001773457_577c3a7d70.jpg\"\n",
        "#     image_id = \"1\"\n",
        "\n",
        "#     # predict the caption\n",
        "#     y_pred = predict_caption(model, features[image_id], tokenizer, max_length)\n",
        "#     # print('--------------------Predicted--------------------')\n",
        "#     # print(y_pred)\n",
        "#     # plt.imshow(image)\n",
        "\n",
        "\n",
        "\n",
        "def load_tokenizer():\n",
        "    with open('tokenizer.pkl', 'rb') as handle:\n",
        "        tokenizer = pickle.load(handle)\n",
        "    return tokenizer\n",
        "\n",
        "def load_image(img):\n",
        "    im = Image.open(img)\n",
        "    image = np.array(im)\n",
        "    return image\n",
        "\n",
        "  \n",
        "tokenizer = load_tokenizer()\n",
        "model = load_model(\"/content/gdrive/My Drive/DS440/Data/image/best_model.h5\")\n",
        "max_length = 35\n",
        "\n",
        "def main():\n",
        "    st.header(\"ImageCaptionGenerator\")\n",
        "\n",
        "    st.write(\"\"\"### Please upload your image:\"\"\")\n",
        "\n",
        "\n",
        "    # construct text box\n",
        "    input_buffer = st.file_uploader(\"Upload an image\", type=(\"png\", \"jpg\"))\n",
        "\n",
        "    button = st.button(\"Generate\")\n",
        "\n",
        "    if button:\n",
        "      if input_buffer:\n",
        "        # extract features from image\n",
        "        features = {}\n",
        "        image_name = input_buffer\n",
        "        # Load vgg16 Model\n",
        "        model_vgg = VGG16()\n",
        "        # restructure model\n",
        "        model_vgg = Model(inputs = model_vgg.inputs , outputs = model_vgg.layers[-2].output)\n",
        "        # load the image from file\n",
        "        image = load_img(image_name, target_size=(224, 224))\n",
        "        # convert image pixels to numpy array\n",
        "        image = img_to_array(image)\n",
        "        # reshape data for model\n",
        "        image = image.reshape((1, image.shape[0], image.shape[1], image.shape[2]))\n",
        "        # preprocess image for vgg\n",
        "        image = preprocess_input(image)\n",
        "        # extract features\n",
        "        feature = model_vgg.predict(image, verbose=0)\n",
        "        # get image ID\n",
        "        image_id = \"1\"\n",
        "        # image_name.split('.')[0]\n",
        "        # store feature\n",
        "        features[image_id] = feature\n",
        "\n",
        "        y_pred = predict_caption(model, features[image_id], tokenizer, max_length)\n",
        "        st.subheader(y_pred)\n",
        "        uploaded_img = load_image(image_name)\n",
        "        st.image(uploaded_img)\n",
        "        # else:\n",
        "        #   st.subheader(\"Please \")\n",
        "\n",
        "\n",
        "       \n",
        "\n",
        "\n",
        "if __name__ == '__main__':\n",
        "    main()"
      ]
    },
    {
      "cell_type": "code",
      "execution_count": null,
      "metadata": {
        "colab": {
          "base_uri": "https://localhost:8080/"
        },
        "id": "u0jAWghHC5EA",
        "outputId": "9e1eeaa5-5a93-4d58-adf3-e655046a4dc9"
      },
      "outputs": [
        {
          "name": "stdout",
          "output_type": "stream",
          "text": [
            "NAME:\n",
            "   ngrok - tunnel local ports to public URLs and inspect traffic\n",
            "\n",
            "DESCRIPTION:\n",
            "    ngrok exposes local networked services behinds NATs and firewalls to the\n",
            "    public internet over a secure tunnel. Share local websites, build/test\n",
            "    webhook consumers and self-host personal services.\n",
            "    Detailed help for each command is available with 'ngrok help <command>'.\n",
            "    Open http://localhost:4040 for ngrok's web interface to inspect traffic.\n",
            "\n",
            "EXAMPLES:\n",
            "    ngrok http 80                    # secure public URL for port 80 web server\n",
            "    ngrok http -subdomain=baz 8080   # port 8080 available at baz.ngrok.io\n",
            "    ngrok http foo.dev:80            # tunnel to host:port instead of localhost\n",
            "    ngrok http https://localhost     # expose a local https server\n",
            "    ngrok tcp 22                     # tunnel arbitrary TCP traffic to port 22\n",
            "    ngrok tls -hostname=foo.com 443  # TLS traffic for foo.com to port 443\n",
            "    ngrok start foo bar baz          # start tunnels from the configuration file\n",
            "\n",
            "VERSION:\n",
            "   2.3.41\n",
            "\n",
            "AUTHOR:\n",
            "  inconshreveable - <alan@ngrok.com>\n",
            "\n",
            "COMMANDS:\n",
            "   authtoken\tsave authtoken to configuration file\n",
            "   credits\tprints author and licensing information\n",
            "   http\t\tstart an HTTP tunnel\n",
            "   start\tstart tunnels by name from the configuration file\n",
            "   tcp\t\tstart a TCP tunnel\n",
            "   tls\t\tstart a TLS tunnel\n",
            "   update\tupdate ngrok to the latest version\n",
            "   version\tprint the version string\n",
            "   help\t\tShows a list of commands or help for one command\n",
            "\n",
            "PYNGROK VERSION:\n",
            "   4.1.1\n"
          ]
        }
      ],
      "source": [
        "!ngrok"
      ]
    },
    {
      "cell_type": "code",
      "execution_count": null,
      "metadata": {
        "colab": {
          "base_uri": "https://localhost:8080/"
        },
        "id": "wYSgW2ynDZz_",
        "outputId": "2b3c258e-14d4-4f68-965f-f9f373bac245"
      },
      "outputs": [
        {
          "name": "stdout",
          "output_type": "stream",
          "text": [
            "Authtoken saved to configuration file: /root/.ngrok2/ngrok.yml\n"
          ]
        }
      ],
      "source": [
        "!ngrok authtoken 2GE9pLnERwJ5wZ1vHuGitlRjoD5_327yPZExMjvGdWqRQhQyK"
      ]
    },
    {
      "cell_type": "code",
      "execution_count": null,
      "metadata": {
        "colab": {
          "base_uri": "https://localhost:8080/"
        },
        "id": "BIBFlLeQDgU6",
        "outputId": "a77345e9-332e-469c-c27e-18996ea44c6f"
      },
      "outputs": [
        {
          "name": "stderr",
          "output_type": "stream",
          "text": [
            "INFO:pyngrok.process:ngrok process starting: 15959\n",
            "2023-03-19 22:15:43.265 ngrok process starting: 15959\n",
            "INFO:pyngrok.process:t=2023-03-19T22:15:43+0000 lvl=info msg=\"no configuration paths supplied\"\n",
            "\n",
            "2023-03-19 22:15:43.288 t=2023-03-19T22:15:43+0000 lvl=info msg=\"no configuration paths supplied\"\n",
            "\n",
            "INFO:pyngrok.process:t=2023-03-19T22:15:43+0000 lvl=info msg=\"using configuration at default config path\" path=/root/.ngrok2/ngrok.yml\n",
            "\n",
            "2023-03-19 22:15:43.295 t=2023-03-19T22:15:43+0000 lvl=info msg=\"using configuration at default config path\" path=/root/.ngrok2/ngrok.yml\n",
            "\n",
            "INFO:pyngrok.process:t=2023-03-19T22:15:43+0000 lvl=info msg=\"open config file\" path=/root/.ngrok2/ngrok.yml err=nil\n",
            "\n",
            "2023-03-19 22:15:43.301 t=2023-03-19T22:15:43+0000 lvl=info msg=\"open config file\" path=/root/.ngrok2/ngrok.yml err=nil\n",
            "\n",
            "INFO:pyngrok.process:t=2023-03-19T22:15:43+0000 lvl=info msg=\"starting web service\" obj=web addr=127.0.0.1:4040\n",
            "\n",
            "2023-03-19 22:15:43.306 t=2023-03-19T22:15:43+0000 lvl=info msg=\"starting web service\" obj=web addr=127.0.0.1:4040\n",
            "\n",
            "INFO:pyngrok.process:t=2023-03-19T22:15:43+0000 lvl=info msg=\"tunnel session started\" obj=tunnels.session\n",
            "\n",
            "2023-03-19 22:15:43.549 t=2023-03-19T22:15:43+0000 lvl=info msg=\"tunnel session started\" obj=tunnels.session\n",
            "\n",
            "INFO:pyngrok.process:t=2023-03-19T22:15:43+0000 lvl=info msg=\"client session established\" obj=csess id=e5d465d6f85a\n",
            "\n",
            "2023-03-19 22:15:43.558 t=2023-03-19T22:15:43+0000 lvl=info msg=\"client session established\" obj=csess id=e5d465d6f85a\n",
            "\n",
            "INFO:pyngrok.process:ngrok process has started: http://127.0.0.1:4040\n",
            "2023-03-19 22:15:43.564 ngrok process has started: http://127.0.0.1:4040\n",
            "INFO:pyngrok.process:t=2023-03-19T22:15:43+0000 lvl=info msg=start pg=/api/tunnels id=104ecacda2ae6b8b\n",
            "\n",
            "2023-03-19 22:15:43.567 t=2023-03-19T22:15:43+0000 lvl=info msg=start pg=/api/tunnels id=104ecacda2ae6b8b\n",
            "\n",
            "INFO:pyngrok.process:t=2023-03-19T22:15:43+0000 lvl=info msg=end pg=/api/tunnels id=104ecacda2ae6b8b status=200 dur=537.462µs\n",
            "\n",
            "2023-03-19 22:15:43.573 t=2023-03-19T22:15:43+0000 lvl=info msg=end pg=/api/tunnels id=104ecacda2ae6b8b status=200 dur=537.462µs\n",
            "\n",
            "INFO:pyngrok.process:t=2023-03-19T22:15:43+0000 lvl=info msg=start pg=/api/tunnels id=4beca7c9e63c104e\n",
            "\n",
            "2023-03-19 22:15:43.575 t=2023-03-19T22:15:43+0000 lvl=info msg=start pg=/api/tunnels id=4beca7c9e63c104e\n",
            "\n",
            "INFO:pyngrok.process:t=2023-03-19T22:15:43+0000 lvl=info msg=end pg=/api/tunnels id=4beca7c9e63c104e status=200 dur=151.056µs\n",
            "\n",
            "2023-03-19 22:15:43.579 t=2023-03-19T22:15:43+0000 lvl=info msg=end pg=/api/tunnels id=4beca7c9e63c104e status=200 dur=151.056µs\n",
            "\n",
            "INFO:pyngrok.process:t=2023-03-19T22:15:43+0000 lvl=info msg=start pg=/api/tunnels id=d7f991de751aa967\n",
            "\n",
            "2023-03-19 22:15:43.582 t=2023-03-19T22:15:43+0000 lvl=info msg=start pg=/api/tunnels id=d7f991de751aa967\n",
            "\n",
            "INFO:pyngrok.process:t=2023-03-19T22:15:43+0000 lvl=info msg=\"started tunnel\" obj=tunnels name=\"http-8501-d110dc66-518e-4271-ac5a-8e40b8a94d3a (http)\" addr=http://localhost:8501 url=http://1517-34-125-241-125.ngrok.io\n",
            "\n",
            "2023-03-19 22:15:43.728 t=2023-03-19T22:15:43+0000 lvl=info msg=\"started tunnel\" obj=tunnels name=\"http-8501-d110dc66-518e-4271-ac5a-8e40b8a94d3a (http)\" addr=http://localhost:8501 url=http://1517-34-125-241-125.ngrok.io\n",
            "\n",
            "INFO:pyngrok.process:t=2023-03-19T22:15:43+0000 lvl=info msg=\"started tunnel\" obj=tunnels name=http-8501-d110dc66-518e-4271-ac5a-8e40b8a94d3a addr=http://localhost:8501 url=https://1517-34-125-241-125.ngrok.io\n",
            "\n",
            "2023-03-19 22:15:43.736 t=2023-03-19T22:15:43+0000 lvl=info msg=\"started tunnel\" obj=tunnels name=http-8501-d110dc66-518e-4271-ac5a-8e40b8a94d3a addr=http://localhost:8501 url=https://1517-34-125-241-125.ngrok.io\n",
            "\n",
            "INFO:pyngrok.process:t=2023-03-19T22:15:43+0000 lvl=info msg=end pg=/api/tunnels id=d7f991de751aa967 status=201 dur=157.754375ms\n",
            "\n",
            "2023-03-19 22:15:43.742 t=2023-03-19T22:15:43+0000 lvl=info msg=end pg=/api/tunnels id=d7f991de751aa967 status=201 dur=157.754375ms\n",
            "\n"
          ]
        }
      ],
      "source": [
        "from pyngrok import ngrok\n",
        "public_url = ngrok.connect(port='8501')"
      ]
    },
    {
      "cell_type": "code",
      "execution_count": null,
      "metadata": {
        "colab": {
          "background_save": true,
          "base_uri": "https://localhost:8080/"
        },
        "id": "DHuCV0JTVCCe",
        "outputId": "e497523a-6a3e-453e-fb7a-d3a9913da21b"
      },
      "outputs": [
        {
          "name": "stdout",
          "output_type": "stream",
          "text": [
            "[############......] - refresh-package-json:localtunnel: timing action:finalize\u001b[0m\u001b[K\n",
            "Collecting usage statistics. To deactivate, set browser.gatherUsageStats to False.\n",
            "\u001b[0m\n",
            "\u001b[K\u001b[?25hnpx: installed 22 in 5.169s\n",
            "Usage: lt --port [num] <options>\n",
            "\n",
            "Options:\n",
            "  -p, --port                Internal HTTP server port                 [required]\n",
            "  -h, --host                Upstream server providing forwarding\n",
            "                                             [default: \"https://localtunnel.me\"]\n",
            "  -s, --subdomain           Request this subdomain\n",
            "  -l, --local-host          Tunnel traffic to this host instead of localhost,\n",
            "                            override Host header to this host\n",
            "      --local-https         Tunnel traffic to a local HTTPS server     [boolean]\n",
            "      --local-cert          Path to certificate PEM file for local HTTPS server\n",
            "      --local-key           Path to certificate key file for local HTTPS server\n",
            "      --local-ca            Path to certificate authority file for self-signed\n",
            "                            certificates\n",
            "      --allow-invalid-cert  Disable certificate checks for your local HTTPS\n",
            "                            server (ignore cert/key/ca options)        [boolean]\n",
            "  -o, --open                Opens the tunnel URL in your browser\n",
            "      --print-requests      Print basic request info                   [boolean]\n",
            "      --help                Show this help and exit                    [boolean]\n",
            "      --version             Show version number                        [boolean]\n",
            "\n",
            "Missing required argument: port\n",
            "\u001b[0m\n",
            "\u001b[34m\u001b[1m  You can now view your Streamlit app in your browser.\u001b[0m\n",
            "\u001b[0m\n",
            "\u001b[34m  Network URL: \u001b[0m\u001b[1mhttp://172.28.0.12:8501\u001b[0m\n",
            "\u001b[34m  External URL: \u001b[0m\u001b[1mhttp://34.125.241.125:8501\u001b[0m\n",
            "\u001b[0m\n"
          ]
        },
        {
          "name": "stderr",
          "output_type": "stream",
          "text": [
            "INFO:pyngrok.process:t=2023-03-19T22:16:00+0000 lvl=info msg=\"join connections\" obj=join id=3da8ad5c1efd l=127.0.0.1:8501 r=98.49.206.189:53051\n",
            "\n",
            "2023-03-19 22:16:00.369 t=2023-03-19T22:16:00+0000 lvl=info msg=\"join connections\" obj=join id=3da8ad5c1efd l=127.0.0.1:8501 r=98.49.206.189:53051\n",
            "\n",
            "INFO:pyngrok.process:t=2023-03-19T22:16:00+0000 lvl=info msg=\"join connections\" obj=join id=1c150385e776 l=127.0.0.1:8501 r=98.49.206.189:53050\n",
            "\n",
            "2023-03-19 22:16:00.531 t=2023-03-19T22:16:00+0000 lvl=info msg=\"join connections\" obj=join id=1c150385e776 l=127.0.0.1:8501 r=98.49.206.189:53050\n",
            "\n",
            "INFO:pyngrok.process:t=2023-03-19T22:16:00+0000 lvl=info msg=\"join connections\" obj=join id=d922ed20e0d6 l=127.0.0.1:8501 r=98.49.206.189:53067\n",
            "\n",
            "2023-03-19 22:16:00.591 t=2023-03-19T22:16:00+0000 lvl=info msg=\"join connections\" obj=join id=d922ed20e0d6 l=127.0.0.1:8501 r=98.49.206.189:53067\n",
            "\n",
            "INFO:pyngrok.process:t=2023-03-19T22:16:00+0000 lvl=info msg=\"join connections\" obj=join id=63bdfeeb595d l=127.0.0.1:8501 r=98.49.206.189:53065\n",
            "\n",
            "2023-03-19 22:16:00.599 t=2023-03-19T22:16:00+0000 lvl=info msg=\"join connections\" obj=join id=63bdfeeb595d l=127.0.0.1:8501 r=98.49.206.189:53065\n",
            "\n",
            "INFO:pyngrok.process:t=2023-03-19T22:16:00+0000 lvl=info msg=\"join connections\" obj=join id=015cb787c3f3 l=127.0.0.1:8501 r=98.49.206.189:53066\n",
            "\n",
            "2023-03-19 22:16:00.605 t=2023-03-19T22:16:00+0000 lvl=info msg=\"join connections\" obj=join id=015cb787c3f3 l=127.0.0.1:8501 r=98.49.206.189:53066\n",
            "\n",
            "INFO:pyngrok.process:t=2023-03-19T22:16:00+0000 lvl=info msg=\"join connections\" obj=join id=5eebd60004d8 l=127.0.0.1:8501 r=98.49.206.189:53068\n",
            "\n",
            "2023-03-19 22:16:00.634 t=2023-03-19T22:16:00+0000 lvl=info msg=\"join connections\" obj=join id=5eebd60004d8 l=127.0.0.1:8501 r=98.49.206.189:53068\n",
            "\n",
            "INFO:pyngrok.process:t=2023-03-19T22:16:02+0000 lvl=info msg=\"join connections\" obj=join id=a2b0a12f9707 l=127.0.0.1:8501 r=98.49.206.189:53071\n",
            "\n",
            "2023-03-19 22:16:02.041 t=2023-03-19T22:16:02+0000 lvl=info msg=\"join connections\" obj=join id=a2b0a12f9707 l=127.0.0.1:8501 r=98.49.206.189:53071\n",
            "\n"
          ]
        },
        {
          "name": "stdout",
          "output_type": "stream",
          "text": [
            "2023-03-19 22:16:03.675351: W tensorflow/compiler/xla/stream_executor/platform/default/dso_loader.cc:64] Could not load dynamic library 'libnvinfer.so.7'; dlerror: libnvinfer.so.7: cannot open shared object file: No such file or directory; LD_LIBRARY_PATH: /usr/local/lib/python3.9/dist-packages/cv2/../../lib64:/usr/local/nvidia/lib:/usr/local/nvidia/lib64\n",
            "2023-03-19 22:16:03.676220: W tensorflow/compiler/xla/stream_executor/platform/default/dso_loader.cc:64] Could not load dynamic library 'libnvinfer_plugin.so.7'; dlerror: libnvinfer_plugin.so.7: cannot open shared object file: No such file or directory; LD_LIBRARY_PATH: /usr/local/lib/python3.9/dist-packages/cv2/../../lib64:/usr/local/nvidia/lib:/usr/local/nvidia/lib64\n",
            "2023-03-19 22:16:03.676540: W tensorflow/compiler/tf2tensorrt/utils/py_utils.cc:38] TF-TRT Warning: Cannot dlopen some TensorRT libraries. If you would like to use Nvidia GPU with TensorRT, please make sure the missing libraries mentioned above are installed properly.\n",
            "2023-03-19 22:16:06.043058: E tensorflow/compiler/xla/stream_executor/cuda/cuda_driver.cc:267] failed call to cuInit: CUDA_ERROR_NO_DEVICE: no CUDA-capable device is detected\n"
          ]
        },
        {
          "name": "stderr",
          "output_type": "stream",
          "text": [
            "INFO:pyngrok.process:t=2023-03-19T22:20:32+0000 lvl=info msg=\"join connections\" obj=join id=c1d7c683f946 l=127.0.0.1:8501 r=98.49.206.189:53066\n",
            "\n",
            "2023-03-19 22:20:32.636 t=2023-03-19T22:20:32+0000 lvl=info msg=\"join connections\" obj=join id=c1d7c683f946 l=127.0.0.1:8501 r=98.49.206.189:53066\n",
            "\n",
            "INFO:pyngrok.process:t=2023-03-19T22:20:32+0000 lvl=info msg=\"join connections\" obj=join id=c9316e9b7683 l=127.0.0.1:8501 r=98.49.206.189:53051\n",
            "\n",
            "2023-03-19 22:20:32.792 t=2023-03-19T22:20:32+0000 lvl=info msg=\"join connections\" obj=join id=c9316e9b7683 l=127.0.0.1:8501 r=98.49.206.189:53051\n",
            "\n",
            "INFO:pyngrok.process:t=2023-03-19T22:20:32+0000 lvl=info msg=\"join connections\" obj=join id=b36b19c09ebe l=127.0.0.1:8501 r=98.49.206.189:53065\n",
            "\n",
            "2023-03-19 22:20:32.798 t=2023-03-19T22:20:32+0000 lvl=info msg=\"join connections\" obj=join id=b36b19c09ebe l=127.0.0.1:8501 r=98.49.206.189:53065\n",
            "\n",
            "INFO:pyngrok.process:t=2023-03-19T22:20:32+0000 lvl=info msg=\"join connections\" obj=join id=1a08598ab6d0 l=127.0.0.1:8501 r=98.49.206.189:53067\n",
            "\n",
            "2023-03-19 22:20:32.801 t=2023-03-19T22:20:32+0000 lvl=info msg=\"join connections\" obj=join id=1a08598ab6d0 l=127.0.0.1:8501 r=98.49.206.189:53067\n",
            "\n",
            "INFO:pyngrok.process:t=2023-03-19T22:20:32+0000 lvl=info msg=\"join connections\" obj=join id=50109d6b8597 l=127.0.0.1:8501 r=98.49.206.189:53068\n",
            "\n",
            "2023-03-19 22:20:32.803 t=2023-03-19T22:20:32+0000 lvl=info msg=\"join connections\" obj=join id=50109d6b8597 l=127.0.0.1:8501 r=98.49.206.189:53068\n",
            "\n",
            "INFO:pyngrok.process:t=2023-03-19T22:20:32+0000 lvl=info msg=\"join connections\" obj=join id=672b955a4c74 l=127.0.0.1:8501 r=98.49.206.189:53050\n",
            "\n",
            "2023-03-19 22:20:32.806 t=2023-03-19T22:20:32+0000 lvl=info msg=\"join connections\" obj=join id=672b955a4c74 l=127.0.0.1:8501 r=98.49.206.189:53050\n",
            "\n",
            "INFO:pyngrok.process:t=2023-03-19T22:20:33+0000 lvl=info msg=\"join connections\" obj=join id=2d98dd33dbcb l=127.0.0.1:8501 r=98.49.206.189:53207\n",
            "\n",
            "2023-03-19 22:20:33.704 t=2023-03-19T22:20:33+0000 lvl=info msg=\"join connections\" obj=join id=2d98dd33dbcb l=127.0.0.1:8501 r=98.49.206.189:53207\n",
            "\n",
            "INFO:pyngrok.process:t=2023-03-19T22:21:12+0000 lvl=info msg=\"join connections\" obj=join id=68861ffca3ab l=127.0.0.1:8501 r=[2601:985:4181:2980:d1eb:1486:84a9:37a6]:64226\n",
            "\n",
            "2023-03-19 22:21:12.436 t=2023-03-19T22:21:12+0000 lvl=info msg=\"join connections\" obj=join id=68861ffca3ab l=127.0.0.1:8501 r=[2601:985:4181:2980:d1eb:1486:84a9:37a6]:64226\n",
            "\n",
            "INFO:pyngrok.process:t=2023-03-19T22:21:12+0000 lvl=info msg=\"join connections\" obj=join id=6c01e4b88b8c l=127.0.0.1:8501 r=[2601:985:4181:2980:d1eb:1486:84a9:37a6]:64225\n",
            "\n",
            "2023-03-19 22:21:12.581 t=2023-03-19T22:21:12+0000 lvl=info msg=\"join connections\" obj=join id=6c01e4b88b8c l=127.0.0.1:8501 r=[2601:985:4181:2980:d1eb:1486:84a9:37a6]:64225\n",
            "\n",
            "INFO:pyngrok.process:t=2023-03-19T22:21:12+0000 lvl=info msg=\"join connections\" obj=join id=8609641208c5 l=127.0.0.1:8501 r=[2601:985:4181:2980:d1eb:1486:84a9:37a6]:64235\n",
            "\n",
            "2023-03-19 22:21:12.645 t=2023-03-19T22:21:12+0000 lvl=info msg=\"join connections\" obj=join id=8609641208c5 l=127.0.0.1:8501 r=[2601:985:4181:2980:d1eb:1486:84a9:37a6]:64235\n",
            "\n",
            "INFO:pyngrok.process:t=2023-03-19T22:21:12+0000 lvl=info msg=\"join connections\" obj=join id=ac4df9d06a2e l=127.0.0.1:8501 r=[2601:985:4181:2980:d1eb:1486:84a9:37a6]:64233\n",
            "\n",
            "2023-03-19 22:21:12.654 t=2023-03-19T22:21:12+0000 lvl=info msg=\"join connections\" obj=join id=ac4df9d06a2e l=127.0.0.1:8501 r=[2601:985:4181:2980:d1eb:1486:84a9:37a6]:64233\n",
            "\n",
            "INFO:pyngrok.process:t=2023-03-19T22:21:12+0000 lvl=info msg=\"join connections\" obj=join id=3ca581de2002 l=127.0.0.1:8501 r=[2601:985:4181:2980:d1eb:1486:84a9:37a6]:64234\n",
            "\n",
            "2023-03-19 22:21:12.841 t=2023-03-19T22:21:12+0000 lvl=info msg=\"join connections\" obj=join id=3ca581de2002 l=127.0.0.1:8501 r=[2601:985:4181:2980:d1eb:1486:84a9:37a6]:64234\n",
            "\n",
            "INFO:pyngrok.process:t=2023-03-19T22:21:12+0000 lvl=info msg=\"join connections\" obj=join id=d055f58145a2 l=127.0.0.1:8501 r=[2601:985:4181:2980:d1eb:1486:84a9:37a6]:64232\n",
            "\n",
            "2023-03-19 22:21:12.852 t=2023-03-19T22:21:12+0000 lvl=info msg=\"join connections\" obj=join id=d055f58145a2 l=127.0.0.1:8501 r=[2601:985:4181:2980:d1eb:1486:84a9:37a6]:64232\n",
            "\n",
            "INFO:pyngrok.process:t=2023-03-19T22:21:14+0000 lvl=info msg=\"join connections\" obj=join id=e2bf36974eef l=127.0.0.1:8501 r=[2601:985:4181:2980:d1eb:1486:84a9:37a6]:64237\n",
            "\n",
            "2023-03-19 22:21:14.090 t=2023-03-19T22:21:14+0000 lvl=info msg=\"join connections\" obj=join id=e2bf36974eef l=127.0.0.1:8501 r=[2601:985:4181:2980:d1eb:1486:84a9:37a6]:64237\n",
            "\n",
            "INFO:pyngrok.process:t=2023-03-19T22:24:47+0000 lvl=info msg=\"join connections\" obj=join id=26c06b28768b l=127.0.0.1:8501 r=98.49.206.189:53068\n",
            "\n",
            "2023-03-19 22:24:47.425 t=2023-03-19T22:24:47+0000 lvl=info msg=\"join connections\" obj=join id=26c06b28768b l=127.0.0.1:8501 r=98.49.206.189:53068\n",
            "\n",
            "INFO:pyngrok.process:t=2023-03-19T22:24:47+0000 lvl=info msg=\"join connections\" obj=join id=dbf0536e933d l=127.0.0.1:8501 r=98.49.206.189:53066\n",
            "\n",
            "2023-03-19 22:24:47.569 t=2023-03-19T22:24:47+0000 lvl=info msg=\"join connections\" obj=join id=dbf0536e933d l=127.0.0.1:8501 r=98.49.206.189:53066\n",
            "\n",
            "INFO:pyngrok.process:t=2023-03-19T22:26:30+0000 lvl=info msg=\"join connections\" obj=join id=485a81e6c9be l=127.0.0.1:8501 r=98.49.206.189:53066\n",
            "\n",
            "2023-03-19 22:26:30.096 t=2023-03-19T22:26:30+0000 lvl=info msg=\"join connections\" obj=join id=485a81e6c9be l=127.0.0.1:8501 r=98.49.206.189:53066\n",
            "\n",
            "INFO:pyngrok.process:t=2023-03-19T22:26:41+0000 lvl=info msg=\"join connections\" obj=join id=3752d80b8965 l=127.0.0.1:8501 r=98.49.206.189:53068\n",
            "\n",
            "2023-03-19 22:26:41.631 t=2023-03-19T22:26:41+0000 lvl=info msg=\"join connections\" obj=join id=3752d80b8965 l=127.0.0.1:8501 r=98.49.206.189:53068\n",
            "\n",
            "INFO:pyngrok.process:t=2023-03-19T22:37:19+0000 lvl=info msg=\"join connections\" obj=join id=07953818580a l=127.0.0.1:8501 r=98.49.206.189:53496\n",
            "\n",
            "2023-03-19 22:37:19.936 t=2023-03-19T22:37:19+0000 lvl=info msg=\"join connections\" obj=join id=07953818580a l=127.0.0.1:8501 r=98.49.206.189:53496\n",
            "\n",
            "INFO:pyngrok.process:t=2023-03-19T22:37:19+0000 lvl=info msg=\"join connections\" obj=join id=25e09df873bb l=127.0.0.1:8501 r=98.49.206.189:53497\n",
            "\n",
            "2023-03-19 22:37:19.944 t=2023-03-19T22:37:19+0000 lvl=info msg=\"join connections\" obj=join id=25e09df873bb l=127.0.0.1:8501 r=98.49.206.189:53497\n",
            "\n",
            "INFO:pyngrok.process:t=2023-03-19T22:37:20+0000 lvl=info msg=\"join connections\" obj=join id=36c2c0249763 l=127.0.0.1:8501 r=98.49.206.189:53507\n",
            "\n",
            "2023-03-19 22:37:20.225 t=2023-03-19T22:37:20+0000 lvl=info msg=\"join connections\" obj=join id=36c2c0249763 l=127.0.0.1:8501 r=98.49.206.189:53507\n",
            "\n",
            "INFO:pyngrok.process:t=2023-03-19T22:47:37+0000 lvl=info msg=\"join connections\" obj=join id=f146861c442d l=127.0.0.1:8501 r=98.49.206.189:53897\n",
            "\n",
            "2023-03-19 22:47:37.676 t=2023-03-19T22:47:37+0000 lvl=info msg=\"join connections\" obj=join id=f146861c442d l=127.0.0.1:8501 r=98.49.206.189:53897\n",
            "\n",
            "INFO:pyngrok.process:t=2023-03-19T22:51:15+0000 lvl=info msg=\"join connections\" obj=join id=8d3b121262c4 l=127.0.0.1:8501 r=98.49.206.189:53990\n",
            "\n",
            "2023-03-19 22:51:15.883 t=2023-03-19T22:51:15+0000 lvl=info msg=\"join connections\" obj=join id=8d3b121262c4 l=127.0.0.1:8501 r=98.49.206.189:53990\n",
            "\n",
            "INFO:pyngrok.process:t=2023-03-19T22:51:15+0000 lvl=info msg=\"join connections\" obj=join id=503078d28c12 l=127.0.0.1:8501 r=98.49.206.189:53991\n",
            "\n",
            "2023-03-19 22:51:15.939 t=2023-03-19T22:51:15+0000 lvl=info msg=\"join connections\" obj=join id=503078d28c12 l=127.0.0.1:8501 r=98.49.206.189:53991\n",
            "\n",
            "INFO:pyngrok.process:t=2023-03-19T22:51:15+0000 lvl=info msg=\"join connections\" obj=join id=a887922ee87f l=127.0.0.1:8501 r=98.49.206.189:53992\n",
            "\n",
            "2023-03-19 22:51:15.950 t=2023-03-19T22:51:15+0000 lvl=info msg=\"join connections\" obj=join id=a887922ee87f l=127.0.0.1:8501 r=98.49.206.189:53992\n",
            "\n",
            "INFO:pyngrok.process:t=2023-03-19T22:51:15+0000 lvl=info msg=\"join connections\" obj=join id=3d458e20f579 l=127.0.0.1:8501 r=98.49.206.189:53993\n",
            "\n",
            "2023-03-19 22:51:15.954 t=2023-03-19T22:51:15+0000 lvl=info msg=\"join connections\" obj=join id=3d458e20f579 l=127.0.0.1:8501 r=98.49.206.189:53993\n",
            "\n",
            "INFO:pyngrok.process:t=2023-03-19T22:51:16+0000 lvl=info msg=\"join connections\" obj=join id=94db9c238927 l=127.0.0.1:8501 r=98.49.206.189:53994\n",
            "\n",
            "2023-03-19 22:51:16.002 t=2023-03-19T22:51:16+0000 lvl=info msg=\"join connections\" obj=join id=94db9c238927 l=127.0.0.1:8501 r=98.49.206.189:53994\n",
            "\n",
            "INFO:pyngrok.process:t=2023-03-19T22:51:16+0000 lvl=info msg=\"join connections\" obj=join id=fdba6115a2b4 l=127.0.0.1:8501 r=98.49.206.189:53997\n",
            "\n",
            "2023-03-19 22:51:16.840 t=2023-03-19T22:51:16+0000 lvl=info msg=\"join connections\" obj=join id=fdba6115a2b4 l=127.0.0.1:8501 r=98.49.206.189:53997\n",
            "\n",
            "INFO:pyngrok.process:t=2023-03-19T22:53:32+0000 lvl=info msg=\"join connections\" obj=join id=38627eb1ab02 l=127.0.0.1:8501 r=98.49.206.189:53991\n",
            "\n",
            "2023-03-19 22:53:32.830 t=2023-03-19T22:53:32+0000 lvl=info msg=\"join connections\" obj=join id=38627eb1ab02 l=127.0.0.1:8501 r=98.49.206.189:53991\n",
            "\n",
            "INFO:pyngrok.process:t=2023-03-19T22:53:33+0000 lvl=info msg=\"join connections\" obj=join id=51c5b1e00fb2 l=127.0.0.1:8501 r=98.49.206.189:53992\n",
            "\n",
            "2023-03-19 22:53:33.541 t=2023-03-19T22:53:33+0000 lvl=info msg=\"join connections\" obj=join id=51c5b1e00fb2 l=127.0.0.1:8501 r=98.49.206.189:53992\n",
            "\n",
            "INFO:pyngrok.process:t=2023-03-19T22:53:33+0000 lvl=info msg=\"join connections\" obj=join id=302285d5bf3b l=127.0.0.1:8501 r=98.49.206.189:54058\n",
            "\n",
            "2023-03-19 22:53:33.789 t=2023-03-19T22:53:33+0000 lvl=info msg=\"join connections\" obj=join id=302285d5bf3b l=127.0.0.1:8501 r=98.49.206.189:54058\n",
            "\n",
            "INFO:pyngrok.process:t=2023-03-19T23:00:06+0000 lvl=info msg=\"join connections\" obj=join id=2cab8a7f2544 l=127.0.0.1:8501 r=[2601:985:4181:2980:d1eb:1486:84a9:37a6]:64834\n",
            "\n",
            "2023-03-19 23:00:06.822 t=2023-03-19T23:00:06+0000 lvl=info msg=\"join connections\" obj=join id=2cab8a7f2544 l=127.0.0.1:8501 r=[2601:985:4181:2980:d1eb:1486:84a9:37a6]:64834\n",
            "\n",
            "INFO:pyngrok.process:t=2023-03-19T23:00:07+0000 lvl=info msg=\"join connections\" obj=join id=978eedc608db l=127.0.0.1:8501 r=[2601:985:4181:2980:d1eb:1486:84a9:37a6]:64835\n",
            "\n",
            "2023-03-19 23:00:07.056 t=2023-03-19T23:00:07+0000 lvl=info msg=\"join connections\" obj=join id=978eedc608db l=127.0.0.1:8501 r=[2601:985:4181:2980:d1eb:1486:84a9:37a6]:64835\n",
            "\n",
            "INFO:pyngrok.process:t=2023-03-19T23:00:07+0000 lvl=info msg=\"join connections\" obj=join id=c77aae8264c2 l=127.0.0.1:8501 r=[2601:985:4181:2980:d1eb:1486:84a9:37a6]:64840\n",
            "\n",
            "2023-03-19 23:00:07.348 t=2023-03-19T23:00:07+0000 lvl=info msg=\"join connections\" obj=join id=c77aae8264c2 l=127.0.0.1:8501 r=[2601:985:4181:2980:d1eb:1486:84a9:37a6]:64840\n",
            "\n",
            "INFO:pyngrok.process:t=2023-03-19T23:00:55+0000 lvl=info msg=\"received stop request\" obj=app stopReq=\"{err:<nil> restart:false}\"\n",
            "\n",
            "2023-03-19 23:00:55.158 t=2023-03-19T23:00:55+0000 lvl=info msg=\"received stop request\" obj=app stopReq=\"{err:<nil> restart:false}\"\n",
            "\n",
            "INFO:pyngrok.process:t=2023-03-19T23:00:55+0000 lvl=info msg=\"session closing\" obj=tunnels.session err=nil\n",
            "\n",
            "2023-03-19 23:00:55.168 t=2023-03-19T23:00:55+0000 lvl=info msg=\"session closing\" obj=tunnels.session err=nil\n",
            "\n"
          ]
        },
        {
          "name": "stdout",
          "output_type": "stream",
          "text": [
            "\u001b[34m  Stopping...\u001b[0m\n"
          ]
        }
      ],
      "source": [
        "!streamlit run app.py & npx localtunnel — port 8501"
      ]
    },
    {
      "cell_type": "code",
      "execution_count": null,
      "metadata": {
        "colab": {
          "base_uri": "https://localhost:8080/",
          "height": 36
        },
        "id": "wWEfg2lhU7LB",
        "outputId": "9dd15fa7-6dc3-4ac3-8f56-982cdd43c43d"
      },
      "outputs": [
        {
          "data": {
            "application/vnd.google.colaboratory.intrinsic+json": {
              "type": "string"
            },
            "text/plain": [
              "'http://1517-34-125-241-125.ngrok.io'"
            ]
          },
          "execution_count": 44,
          "metadata": {},
          "output_type": "execute_result"
        }
      ],
      "source": [
        "public_url"
      ]
    }
  ],
  "metadata": {
    "colab": {
      "provenance": []
    },
    "kernelspec": {
      "display_name": "Python 3",
      "name": "python3"
    },
    "language_info": {
      "name": "python"
    }
  },
  "nbformat": 4,
  "nbformat_minor": 0
}